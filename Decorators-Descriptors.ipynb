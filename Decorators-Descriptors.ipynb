{
 "cells": [
  {
   "cell_type": "markdown",
   "metadata": {},
   "source": [
    "# Decorator Basics\n",
    "# Python’s functions are objects\n",
    "To understand decorators, you must first understand that functions are objects in Python. This has important consequences. Let’s see why with a simple example :"
   ]
  },
  {
   "cell_type": "code",
   "execution_count": 53,
   "metadata": {},
   "outputs": [
    {
     "name": "stdout",
     "output_type": "stream",
     "text": [
      "Hello!\n",
      "Hello!\n",
      "name 'greet' is not defined\n",
      "Hello!\n"
     ]
    }
   ],
   "source": [
    "def greet(word='Hello'):\n",
    "    return word.capitalize() + '!'\n",
    "\n",
    "print(greet())\n",
    "\n",
    "\n",
    "scream = greet\n",
    "\n",
    "# Notice we don’t use parentheses: we are not calling the function, we are\n",
    "# putting the function `shout` into the variable `scream`. \n",
    "# It means you can then call `greet` from `scream`:\n",
    "\n",
    "print(scream())\n",
    "\n",
    "\n",
    "del greet\n",
    "try:\n",
    "    print(greet())\n",
    "except NameError as e:\n",
    "    print(e)\n",
    "\n",
    "\n",
    "print(scream())"
   ]
  },
  {
   "cell_type": "markdown",
   "metadata": {},
   "source": [
    "Python functions is they can be defined... inside another function!"
   ]
  },
  {
   "cell_type": "code",
   "execution_count": 7,
   "metadata": {},
   "outputs": [
    {
     "name": "stdout",
     "output_type": "stream",
     "text": [
      "yes...\n",
      "name 'whisper' is not defined\n"
     ]
    }
   ],
   "source": [
    "def talk():\n",
    "\n",
    "\n",
    "    def whisper(word='yes'):\n",
    "        return word.lower() + '...'\n",
    "\n",
    "    print (whisper())\n",
    "\n",
    "talk()\n",
    "\n",
    "\n",
    "try:\n",
    "    print (whisper())\n",
    "except NameError as e:\n",
    "    print (e)\n"
   ]
  },
  {
   "cell_type": "markdown",
   "metadata": {},
   "source": [
    " function can return another function."
   ]
  },
  {
   "cell_type": "code",
   "execution_count": 55,
   "metadata": {},
   "outputs": [
    {
     "name": "stdout",
     "output_type": "stream",
     "text": [
      "<function getTalk.<locals>.greet at 0x7fe590edba60>\n",
      "Greet!\n",
      "yes...\n"
     ]
    }
   ],
   "source": [
    "def getTalk(kind='greet'):\n",
    "\n",
    "    # We define functions on the fly\n",
    "    def greet(word='greet'):\n",
    "        return word.capitalize() + '!'\n",
    "\n",
    "    def whisper(word='yes'):\n",
    "        return word.lower() + '...'\n",
    "\n",
    "    # Then we return one of them\n",
    "    if kind == 'greet':\n",
    "        return greet  \n",
    "    else:\n",
    "        return whisper\n",
    "\n",
    "talk = getTalk()      \n",
    "\n",
    "print(talk)\n",
    "\n",
    "print (talk())\n",
    "\n",
    "print (getTalk('whisper')())\n"
   ]
  },
  {
   "cell_type": "code",
   "execution_count": 11,
   "metadata": {},
   "outputs": [
    {
     "name": "stdout",
     "output_type": "stream",
     "text": [
      "I do something before then I call the function you gave me\n",
      "Yes!\n"
     ]
    }
   ],
   "source": [
    "def doSomethingBefore(func): \n",
    "    print ('I do something before then I call the function you gave me')\n",
    "    print (func())\n",
    "\n",
    "doSomethingBefore(scream)"
   ]
  },
  {
   "cell_type": "markdown",
   "metadata": {},
   "source": [
    "Well, you just have everything needed to understand decorators. You see, decorators are “wrappers”, which means that they let you execute code before and after the function they decorate without modifying the function itself.\n",
    "\n",
    "# Handcrafted decorators"
   ]
  },
  {
   "cell_type": "code",
   "execution_count": 13,
   "metadata": {},
   "outputs": [
    {
     "name": "stdout",
     "output_type": "stream",
     "text": [
      "I am a stand alone function, don’t you dare modify me\n",
      "Before the function runs\n",
      "I am a stand alone function, don’t you dare modify me\n",
      "After the function runs\n"
     ]
    }
   ],
   "source": [
    "# A decorator is a function that expects ANOTHER function as parameter\n",
    "def my_shiny_new_decorator(a_function_to_decorate):\n",
    "\n",
    "    def the_wrapper_around_the_original_function():\n",
    "\n",
    "        # Put here the code you want to be executed BEFORE the original \n",
    "        # function is called\n",
    "        print ('Before the function runs')\n",
    "\n",
    "        # Call the function here (using parentheses)\n",
    "        a_function_to_decorate()\n",
    "\n",
    "        # Put here the code you want to be executed AFTER the original \n",
    "        # function is called\n",
    "        print ('After the function runs')\n",
    "\n",
    "    return the_wrapper_around_the_original_function\n",
    "\n",
    "def a_stand_alone_function():\n",
    "    print ('I am a stand alone function, don’t you dare modify me')\n",
    "\n",
    "a_stand_alone_function() \n",
    "\n",
    "\n",
    "a_stand_alone_function_decorated = my_shiny_new_decorator(a_stand_alone_function)\n",
    "a_stand_alone_function_decorated()"
   ]
  },
  {
   "cell_type": "code",
   "execution_count": 14,
   "metadata": {},
   "outputs": [
    {
     "name": "stdout",
     "output_type": "stream",
     "text": [
      "Before the function runs\n",
      "I am a stand alone function, don’t you dare modify me\n",
      "After the function runs\n"
     ]
    }
   ],
   "source": [
    "a_stand_alone_function = my_shiny_new_decorator(a_stand_alone_function)\n",
    "a_stand_alone_function()\n"
   ]
  },
  {
   "cell_type": "markdown",
   "metadata": {},
   "source": [
    "# using the decorator syntax:"
   ]
  },
  {
   "cell_type": "code",
   "execution_count": 16,
   "metadata": {},
   "outputs": [
    {
     "name": "stdout",
     "output_type": "stream",
     "text": [
      "Before the function runs\n",
      "Leave me alone\n",
      "After the function runs\n"
     ]
    }
   ],
   "source": [
    "@my_shiny_new_decorator\n",
    "def another_stand_alone_function():\n",
    "    print ('Leave me alone')\n",
    "\n",
    "another_stand_alone_function()  "
   ]
  },
  {
   "cell_type": "markdown",
   "metadata": {},
   "source": [
    "#Yes, that’s all, it’s that simple. @decorator is just a shortcut to:\n",
    "\n",
    "\n",
    "another_stand_alone_function = my_shiny_new_decorator(another_stand_alone_function)"
   ]
  },
  {
   "cell_type": "code",
   "execution_count": 47,
   "metadata": {},
   "outputs": [
    {
     "name": "stdout",
     "output_type": "stream",
     "text": [
      "--ham--\n",
      "Hello Here is the reciepe\n",
      "#tomatoes#\n",
      "--ham--\n",
      "~salad~\n",
      "Bye BYe\n"
     ]
    }
   ],
   "source": [
    "def bread(func):\n",
    "    def wrapper():\n",
    "        print( \"Hello Here is the reciepe\")\n",
    "        func()\n",
    "        print (\"Bye BYe\")\n",
    "    return wrapper\n",
    "\n",
    "def ingredients(func):\n",
    "    def wrapper():\n",
    "        print ('#tomatoes#')\n",
    "        func()\n",
    "        print ('~salad~')\n",
    "    return wrapper\n",
    "\n",
    "def sandwich(food='--ham--'):\n",
    "    print (food)\n",
    "\n",
    "sandwich()\n",
    "\n",
    "sandwich = bread(ingredients(sandwich))\n",
    "sandwich()"
   ]
  },
  {
   "cell_type": "markdown",
   "metadata": {},
   "source": [
    "Using the Python decorator syntax:"
   ]
  },
  {
   "cell_type": "code",
   "execution_count": 48,
   "metadata": {},
   "outputs": [
    {
     "name": "stdout",
     "output_type": "stream",
     "text": [
      "Hello Here is the reciepe\n",
      "#tomatoes#\n",
      "--ham--\n",
      "~salad~\n",
      "Bye BYe\n"
     ]
    }
   ],
   "source": [
    "@bread\n",
    "@ingredients\n",
    "def sandwich(food='--ham--'):\n",
    "    print(food)\n",
    "sandwich()"
   ]
  },
  {
   "cell_type": "markdown",
   "metadata": {},
   "source": [
    "The order you set the decorators MATTERS:"
   ]
  },
  {
   "cell_type": "code",
   "execution_count": 49,
   "metadata": {},
   "outputs": [
    {
     "name": "stdout",
     "output_type": "stream",
     "text": [
      "#tomatoes#\n",
      "Hello Here is the reciepe\n",
      "--ham--\n",
      "Bye BYe\n",
      "~salad~\n"
     ]
    }
   ],
   "source": [
    "@ingredients\n",
    "@bread\n",
    "def strange_sandwich(food='--ham--'):\n",
    "    print(food)\n",
    "\n",
    "strange_sandwich()"
   ]
  },
  {
   "cell_type": "markdown",
   "metadata": {},
   "source": [
    "# Passing arguments to the decorated function"
   ]
  },
  {
   "cell_type": "code",
   "execution_count": 29,
   "metadata": {},
   "outputs": [
    {
     "name": "stdout",
     "output_type": "stream",
     "text": [
      "I got args! Look: Peter Venkman\n",
      "My name is Peter Venkman\n"
     ]
    }
   ],
   "source": [
    "# It’s not black magic, you just have to let the wrapper \n",
    "# pass the argument:\n",
    "\n",
    "def a_decorator_passing_arguments(function_to_decorate):\n",
    "    def a_wrapper_accepting_arguments(arg1, arg2):\n",
    "        print('I got args! Look:', arg1, arg2)\n",
    "        function_to_decorate(arg1, arg2)\n",
    "    return a_wrapper_accepting_arguments\n",
    "\n",
    "# Since when you are calling the function returned by the decorator, you are\n",
    "# calling the wrapper, passing arguments to the wrapper will let it pass them to \n",
    "# the decorated function\n",
    "\n",
    "@a_decorator_passing_arguments\n",
    "def print_full_name(first_name, last_name):\n",
    "    print('My name is', first_name, last_name)\n",
    "    \n",
    "print_full_name('Peter', 'Venkman')"
   ]
  },
  {
   "cell_type": "markdown",
   "metadata": {},
   "source": [
    "# Passing arguments to the decorator\n",
    "Great, now what would you say about passing arguments to the decorator itself?\n",
    "\n",
    "This can get somewhat twisted, since a decorator must accept a function as an argument. Therefore, you cannot pass the decorated function’s arguments directly to the decorator.\n"
   ]
  },
  {
   "cell_type": "code",
   "execution_count": 37,
   "metadata": {},
   "outputs": [
    {
     "name": "stdout",
     "output_type": "stream",
     "text": [
      "I am an ordinary function\n",
      "I am an ordinary function\n"
     ]
    }
   ],
   "source": [
    "# Decorators are ORDINARY functions\n",
    "def my_decorator(func):\n",
    "    print('I am an ordinary function')\n",
    "    def wrapper():\n",
    "        print('I am function returned by the decorator')\n",
    "        func()\n",
    "    return wrapper\n",
    "\n",
    "# Therefore, you can call it without any '@'\n",
    "\n",
    "def lazy_function():\n",
    "    print('zzzzzzzz')\n",
    "\n",
    "decorated_function = my_decorator(lazy_function)\n",
    "\n",
    "\n",
    "@my_decorator\n",
    "def lazy_function():\n",
    "    print ('zzzzzzzz')\n"
   ]
  },
  {
   "cell_type": "code",
   "execution_count": 42,
   "metadata": {},
   "outputs": [],
   "source": [
    "def decorator_with_args(decorator_to_enhance):\n",
    "    \"\"\" \n",
    "    This function is supposed to be used as a decorator.\n",
    "    It must decorate an other function, that is intended to be used as a decorator.\n",
    "    Take a cup of coffee.\n",
    "    It will allow any decorator to accept an arbitrary number of arguments,\n",
    "    saving you the headache to remember how to do that every time.\n",
    "    \"\"\"\n",
    "    \n",
    "    # We use the same trick we did to pass arguments\n",
    "    def decorator_maker(*args, **kwargs):\n",
    "       \n",
    "        # We create on the fly a decorator that accepts only a function\n",
    "        # but keeps the passed arguments from the maker.\n",
    "        def decorator_wrapper(func):\n",
    "    \n",
    "            return decorator_to_enhance(func, *args, **kwargs)\n",
    "        \n",
    "        return decorator_wrapper\n",
    "    \n",
    "    return decorator_maker"
   ]
  },
  {
   "cell_type": "code",
   "execution_count": 43,
   "metadata": {},
   "outputs": [
    {
     "name": "stdout",
     "output_type": "stream",
     "text": [
      "Decorated with (42, 404, 1024) {}\n",
      "Hello Universe and everything\n"
     ]
    }
   ],
   "source": [
    "# Don’t forget, the signature is `decorator(func, *args, **kwargs)`\n",
    "@decorator_with_args \n",
    "def decorated_decorator(func, *args, **kwargs): \n",
    "    def wrapper(function_arg1, function_arg2):\n",
    "        print ('Decorated with', args, kwargs)\n",
    "        return func(function_arg1, function_arg2)\n",
    "    return wrapper\n",
    "    \n",
    "# Then you decorate the functions you wish with your brand new decorated decorator.\n",
    "\n",
    "@decorated_decorator(42, 404, 1024)\n",
    "def decorated_function(function_arg1, function_arg2):\n",
    "    print ('Hello', function_arg1, function_arg2)\n",
    "\n",
    "decorated_function('Universe and', 'everything')\n"
   ]
  },
  {
   "cell_type": "markdown",
   "metadata": {},
   "source": [
    "Some other simple example\n"
   ]
  },
  {
   "cell_type": "code",
   "execution_count": 52,
   "metadata": {},
   "outputs": [
    {
     "name": "stdout",
     "output_type": "stream",
     "text": [
      "Will greet Ruchi\n",
      "Hi Bhardwaj\n",
      "Will greet Ruchi\n",
      "Ruchi is not allowed\n",
      "Will greet Ruchi\n",
      "Hi Bhardwaj\n",
      "Will greet Ruchi\n",
      "Ruchi is not allowed\n",
      "Will greet Ruchi\n",
      "Hi Bhardwaj\n",
      "Will greet Ruchi\n",
      "Hi Bhardwaj\n",
      "names used: Ruchi, Bhardwaj\n"
     ]
    }
   ],
   "source": [
    "NAMES = set()\n",
    "\n",
    "\n",
    "def replace(old, new):\n",
    "    \"\"\"Replace the first function argument.\n",
    "    If the first function argument matches old it will be Replaced with new.\n",
    "    \"\"\"\n",
    "    # decorate the original function\n",
    "    def decorate(func):\n",
    "        # do the replacement using the args of the decorator\n",
    "        def do_replace(*args, **kwargs):\n",
    "            if args[0] == old:\n",
    "                args = (new,)\n",
    "            # call the decorated function\n",
    "            return func(*args, **kwargs)\n",
    "        return do_replace\n",
    "    return decorate\n",
    "\n",
    "\n",
    "\n",
    "def remember(func):\n",
    "    \"\"\"Remember each name that was called.\n",
    "    Does only remember each name once.\n",
    "    \"\"\"\n",
    "    # wrap the original function to fetch it's arguments\n",
    "    def wrapper(*args, **kwargs):\n",
    "        NAMES.add(args[0])\n",
    "        # call the decorated function\n",
    "        return func(*args, **kwargs)\n",
    "    return wrapper\n",
    "\n",
    "\n",
    "def check_allowed(func):\n",
    "    \"\"\"Check if a function is allowed.\n",
    "    Returns a function which raises a NameError if a function is not in the\n",
    "    allowed list.\n",
    "    \"\"\"\n",
    "    allowed = ['say_hi']\n",
    "    if func.__name__ not in allowed:\n",
    "        def not_allowed(*args):\n",
    "            raise NameError('%s not allowed' % func.__name__)\n",
    "        return not_allowed\n",
    "    return func\n",
    "\n",
    "\n",
    "@replace('Ruchi', 'Bhardwaj')\n",
    "@remember\n",
    "@check_allowed\n",
    "def say_hi(name):\n",
    "    return \"Hi %s\" % name\n",
    "\n",
    "\n",
    "def say_hello(name):\n",
    "    return \"Hello %s\" % name\n",
    "say_hello = remember(check_allowed(say_hello))\n",
    "\n",
    "\n",
    "QUEUE = [\n",
    "    (say_hi, 'Ruchi'),\n",
    "    (say_hello, 'Ruchi'),\n",
    "    (say_hi, 'Ruchi'),\n",
    "    (say_hello, 'Ruchi'),\n",
    "    (say_hi, 'Ruchi'),\n",
    "    (say_hi, 'Ruchi'),\n",
    "]\n",
    "for func, name in QUEUE:\n",
    "    try:\n",
    "        print( 'Will greet %s' % name)\n",
    "        print (func(name))\n",
    "    except NameError:\n",
    "        print ('%s is not allowed' % name)\n",
    "print ('names used: %s' % ', '.join(NAMES))"
   ]
  },
  {
   "cell_type": "markdown",
   "metadata": {},
   "source": [
    "# Descriptors\n"
   ]
  },
  {
   "cell_type": "code",
   "execution_count": 56,
   "metadata": {},
   "outputs": [
    {
     "name": "stdout",
     "output_type": "stream",
     "text": [
      "Object Descriptor :Ruchi\n",
      "__get__\n",
      "Object Descriptor :Ruchi\n",
      "__get__\n",
      "=== Object Descriptor :Ruchi\n",
      "None\n"
     ]
    }
   ],
   "source": [
    "class Descriptor(object):\n",
    "    def __init__(self,name=None):\n",
    "        self._name = name\n",
    "\n",
    "    def __get__(self, instance, owner):\n",
    "        print(\"__get__\")\n",
    "        return instance\n",
    "\n",
    "    def __set__(self, instance, value):\n",
    "        print(\"__set__\")\n",
    "        instance.__dict__[self._name] = value\n",
    "\n",
    "    def __delete__(self, instance):\n",
    "        print(\"__delete__\")\n",
    "        del instance.__dict__[self._name]\n",
    "\n",
    "    def __repr__(self):\n",
    "        return \"Object Descriptor :{}\".format(self._name)\n",
    "\n",
    "class People(Descriptor):\n",
    "    name = Descriptor()\n",
    "\n",
    "    def MethoA(self):\n",
    "        print(\"===\", self.name)\n",
    "\n",
    "\n",
    "if __name__==\"__main__\":\n",
    "    obj = People(name=\"Ruchi\")\n",
    "    print(obj)\n",
    "    print(obj.name)\n",
    "    print(obj.MethoA())\n"
   ]
  },
  {
   "cell_type": "code",
   "execution_count": null,
   "metadata": {},
   "outputs": [],
   "source": []
  }
 ],
 "metadata": {
  "kernelspec": {
   "display_name": "Python 3",
   "language": "python",
   "name": "python3"
  },
  "language_info": {
   "codemirror_mode": {
    "name": "ipython",
    "version": 3
   },
   "file_extension": ".py",
   "mimetype": "text/x-python",
   "name": "python",
   "nbconvert_exporter": "python",
   "pygments_lexer": "ipython3",
   "version": "3.6.9"
  }
 },
 "nbformat": 4,
 "nbformat_minor": 2
}
